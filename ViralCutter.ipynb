{
  "cells": [
    {
      "cell_type": "markdown",
      "source": [
        "# ViralCutter\n",
        "Uma alternativa gratuita ao `opus.pro` e ao `vidyo.ai`\n",
        "\n",
        "## ⚠️Você está na versão <b>COMPLETA</b>, se achou muito complexo, entre na versão simplificada no link abaixo.\n",
        "https://colab.research.google.com/drive/1aDNLtoJZa9Z0lKcYTR6CGNMgZ_iTpwJD?usp=sharing"
      ],
      "metadata": {
        "id": "pa36OeArowme"
      }
    },
    {
      "cell_type": "markdown",
      "source": [
        "# Suporte em:\n",
        "[ ![](https://dcbadge.vercel.app/api/server/aihubbrasil) ](https://discord.gg/aihubbrasil)"
      ],
      "metadata": {
        "id": "6Q-ljfsw1unE"
      }
    },
    {
      "cell_type": "code",
      "source": [
        "#@title Áudio Mudo\n",
        "%%html\n",
        "<audio src=\"https://oobabooga.github.io/silence.m4a\" controls>"
      ],
      "metadata": {
        "cellView": "form",
        "colab": {
          "base_uri": "https://localhost:8080/",
          "height": 93
        },
        "id": "-ry4FVGroylp",
        "outputId": "9084b31f-9b46-404a-e908-f92d28a744f7"
      },
      "execution_count": null,
      "outputs": [
        {
          "output_type": "display_data",
          "data": {
            "text/plain": [
              "<IPython.core.display.HTML object>"
            ],
            "text/html": [
              "<audio src=\"https://oobabooga.github.io/silence.m4a\" controls>\n"
            ]
          },
          "metadata": {}
        }
      ]
    },
    {
      "cell_type": "markdown",
      "source": [
        "# TODO📝\n",
        "- [x] Release code\n",
        "- [ ] Huggingface SpaceDemo\n",
        "- [x] Two face in the cut\n",
        "- [x] Custom caption and burn\n",
        "- [ ] Make the code faster\n",
        "- [ ] More types of framing beyond 9:16"
      ],
      "metadata": {
        "id": "0o3KcBT5wzws"
      }
    },
    {
      "cell_type": "code",
      "execution_count": null,
      "metadata": {
        "cellView": "form",
        "id": "e76jiRnjONmj",
        "colab": {
          "base_uri": "https://localhost:8080/"
        },
        "outputId": "122bb7b6-efcc-497c-e74b-853c7f7329e1"
      },
      "outputs": [
        {
          "output_type": "stream",
          "name": "stdout",
          "text": [
            "Finalizado...\n"
          ]
        }
      ],
      "source": [
        "#@title Dependência\n",
        "from IPython.display import clear_output\n",
        "!git clone https://github.com/RafaelGodoyEbert/ViralCutter.git\n",
        "!pip install -U g4f[all] -q\n",
        "!pip install yt_dlp -q\n",
        "!pip install ffmpeg-python -q\n",
        "!pip install git+https://github.com/m-bain/whisperx.git -q\n",
        "!pip install mediapipe -q\n",
        "%cd /content/ViralCutter\n",
        "clear_output()\n",
        "print(\"Finalizado...\")"
      ]
    },
    {
      "cell_type": "code",
      "source": [
        "#@title Configuração\n",
        "import os\n",
        "from scripts import download_video, transcribe_video, create_viral_segments, cut_segments, edit_video, transcribe_cuts, adjust_subtitles, burn_subtitles, save_json\n",
        "from IPython.display import clear_output\n",
        "\n",
        "# Create necessary directories\n",
        "os.makedirs('tmp', exist_ok=True)\n",
        "os.makedirs('final', exist_ok=True)\n",
        "os.makedirs('subs', exist_ok=True)\n",
        "os.makedirs('subs_ass', exist_ok=True)\n",
        "os.makedirs('burned_sub', exist_ok=True)\n",
        "\n",
        "# Cores originais invertidas\n",
        "vermelho = \"0A08E4\"\n",
        "amarelo = \"00FFFF\"\n",
        "azul = \"700206\"\n",
        "preto = \"000000\"\n",
        "verde = \"58DA7D\"\n",
        "branco = \"FFFFFF\"\n",
        "laranja = \"0099FE\"\n",
        "roxo = \"800080\"\n",
        "rosa = \"C77DF9\"\n",
        "ciano = \"FFFF00\"\n",
        "marrom = \"2D4A8C\"\n",
        "cinza = \"808080\"\n",
        "verde_limao = \"32CD32\"\n",
        "azul_claro = \"E6D8AD\"\n",
        "verde = \"0FF00\"\n",
        "\n",
        "#@markdown Se quiser pular apenas para a parte de refazer a edição as legendas, ative-o\n",
        "# Burn subtitles option\n",
        "burn_only = False #@param{type:\"boolean\"}\n",
        "\n",
        "#@markdown ---\n",
        "#@markdown <h1><center>🎬 <b>Configurações do Vídeo</b> 🎬</center></h1>\n",
        "\n",
        "#@markdown ---\n",
        "#@markdown <h4>🔗 Link do vídeo no YouTube</h4>\n",
        "url = 'https://youtu.be/1ZnwqFh3CrA?si=zpSig52k11NY7que'  # @param {type: \"string\"}\n",
        "#@markdown ---\n",
        "#@markdown <h4>📊 Quantidade de segmentos</h4>\n",
        "num_segments = 3  # @param {type:\"number\"}\n",
        "#@markdown ---\n",
        "#@markdown <h4>🌟 Modo viral</h4>\n",
        "viral_mode = True #@param{type:\"boolean\"}\n",
        "#@markdown ---\n",
        "#@markdown <h4>🔤 Legendas queimadas</h4>\n",
        "burn_subtitles_option = True # @param [\"False\", \"True\"] {type:\"raw\"}\n",
        "#@markdown ---\n",
        "#@markdown <h4>🎨 Tema personalizado (caso não use modo viral)</h4>\n",
        "themes = '' # @param {type:\"string\", placeholder:\"Se `viral_mode` desmarcado, coloque o tema aqui, se mais que um, separado por virgulas\"}\n",
        "#@markdown ---\n",
        "#@markdown <h4>🧠 Modelo para análise de vídeo</h4>\n",
        "model = 'large-v3' # @param ['base', 'large-v3']\n",
        "\n",
        "#@markdown ---\n",
        "#@markdown <h1><center>⏳ <b>Configurações de Tempo</b> ⏳</center></h1>\n",
        "\n",
        "#@markdown ---\n",
        "#@markdown <h4>⌛ Tempo mínimo (segundos)</h4>\n",
        "tempo_minimo = 15 #@param{type: \"number\"}\n",
        "#@markdown ---\n",
        "#@markdown <h4>⏳ Tempo máximo (segundos)</h4>\n",
        "tempo_maximo = 90 #@param{type: \"number\"}\n",
        "\n",
        "#@markdown ---\n",
        "#@markdown <h1><center>💬 <b>Configurações de Legendas</b> 💬</center></h1>\n",
        "#@markdown <h4>⚠️ Só mexa se ``burn_subtitles_option`` estiver ativo!</h4>\n",
        "\n",
        "#@markdown ---\n",
        "#@markdown ### Fonte da legenda\n",
        "fonte = \"Arial\" #@param{type: \"string\"}\n",
        "#@markdown ---\n",
        "#@markdown ### Tamanho da fonte\n",
        "base_size = 12 #@param{type: \"number\"}\n",
        "#@markdown ---\n",
        "#@markdown ### Cor da fonte\n",
        "base_color_c = \"FFFFFF\" #@param{type: \"string\"}\n",
        "#@markdown ---\n",
        "#@markdown ### Transparência da fonte (00= opaco, 80= 50% transparente, FF= totalmente transparente)\n",
        "base_color_t = \"00\" #@param{type: \"string\"}\n",
        "base_color = f\"&H{base_color_t}\" + base_color_c + \"&\"\n",
        "\n",
        "#@markdown ---\n",
        "#@markdown ### Cor do contorno\n",
        "contorno_c = \"808080\" #@param{type: \"string\"}\n",
        "#@markdown ---\n",
        "#@markdown ### Transparência da fonte (00= opaco, 80= 50% transparente, FF= totalmente transparente)\n",
        "contorno_t = \"00\" #@param{type: \"string\"}\n",
        "contorno = f\"&H{contorno_t}\" + contorno_c + \"&\"\n",
        "\n",
        "#@markdown ---\n",
        "#@markdown ### Tamanho do highlight\n",
        "h_size = 14 #@param{type: \"number\"}\n",
        "\n",
        "#@markdown ---\n",
        "#@markdown ### Número de palavras por bloco\n",
        "palavras_por_bloco = 5 #@param{type: \"number\"}\n",
        "\n",
        "#@markdown ---\n",
        "#@markdown ### Limite de gap entre falas (em segundos)\n",
        "limite_gap = 0.5 #@param{type: \"number\"}\n",
        "\n",
        "#@markdown ---\n",
        "#@markdown ### Modo de exibição das legendas\n",
        "modo = 'highlight' # @param ['highlight', 'sem_higlight', 'palavra_por_palavra']\n",
        "\n",
        "#@markdown ---\n",
        "#@markdown <h3><b><center>🎨 Configurações do Destaque</center></b></h4>\n",
        "\n",
        "#@markdown ---\n",
        "#@markdown ### Cor da fonte de destaque\n",
        "highlight_color_c = \"0FF00\" #@param{type: \"string\"}\n",
        "#@markdown ---\n",
        "#@markdown ### Transparência da fonte de destaque (00= opaco, 80= 50% transparente, FF= totalmente transparente)\n",
        "highlight_color_t = \"00\" #@param{type: \"string\"}\n",
        "highlight_color = f\"&H{highlight_color_t}\" + highlight_color_c + \"&\"\n",
        "\n",
        "#@markdown ---\n",
        "#@markdown ### Posição vertical da legenda (1=170, 2=130, 3=99, 4=60 (default), 5=20)\n",
        "posicao_vertical = 60 #@param{type: \"number\"}\n",
        "\n",
        "#@markdown ---\n",
        "#@markdown ### Cor da sombra\n",
        "cor_da_sombra_c = \"000000\" #@param{type: \"string\"}\n",
        "#@markdown ---\n",
        "#@markdown ### Transparência da fonte (00= opaco, 80= 50% transparente, FF= totalmente transparente)\n",
        "cor_da_sombra_t = \"00\" #@param{type: \"string\"}\n",
        "cor_da_sombra = f\"&H{cor_da_sombra_t}\" + cor_da_sombra_c + \"&\"\n",
        "\n",
        "#@markdown ---\n",
        "#@markdown ### Alinhamento do texto\n",
        "#@markdown 1 = Esquerda, 2 = Centro (default), 3 = Direita\n",
        "alinhamento = 2 #@param{type: \"slider\", min: 1, max: 3}\n",
        "\n",
        "#@markdown ---\n",
        "#@markdown ### Efeitos no texto\n",
        "negrito = 0 #@param{type: \"number\"}\n",
        "italico = 0 #@param{type: \"number\"}\n",
        "sublinhado = 0 #@param{type: \"number\"}\n",
        "tachado = 0 #@param{type: \"number\"}\n",
        "\n",
        "#@markdown ---\n",
        "#@markdown ### Estilo da borda\n",
        "#@markdown 1 = Contorno, 3 = Caixa\n",
        "estilo_da_borda = 3 #@param{type: \"number\"}\n",
        "\n",
        "#@markdown ---\n",
        "#@markdown ### Espessura do contorno\n",
        "espessura_do_contorno = 1.5 #@param{type: \"number\"}\n",
        "\n",
        "#@markdown ---\n",
        "#@markdown ### Tamanho da sombra\n",
        "tamanho_da_sombra = 10 #@param{type: \"number\"}\n",
        "\n",
        "if burn_only:\n",
        "    print(\"Burn only mode activated. Skipping to subtitle burning...\")\n",
        "    burn_subtitles.burn()\n",
        "    print(\"Subtitle burning completed.\")\n",
        "else:\n",
        "    # Execute the pipeline\n",
        "    input_video = download_video.download(url)\n",
        "    srt_file, tsv_file = transcribe_video.transcribe(input_video, model)\n",
        "    clear_output()\n",
        "    viral_segments = create_viral_segments.create(num_segments, viral_mode, themes, tempo_minimo, tempo_maximo)\n",
        "    save_json.save_viral_segments(viral_segments)\n",
        "\n",
        "    cut_segments.cut(viral_segments)\n",
        "    edit_video.edit()\n",
        "\n",
        "    if burn_subtitles_option:\n",
        "        import subprocess\n",
        "        def transcribe():\n",
        "            def generate_whisperx(input_file, output_folder, model=model):\n",
        "                output_file = os.path.join(output_folder, f\"{os.path.splitext(os.path.basename(input_file))[0]}.srt\")\n",
        "                json_file = os.path.join(output_folder, f\"{os.path.splitext(os.path.basename(input_file))[0]}.json\")  # Define the JSON output file\n",
        "\n",
        "                # Skip processing if the JSON file already exists\n",
        "                if os.path.exists(json_file):\n",
        "                    print(f\"Arquivo já existe, pulando: {json_file}\")\n",
        "                    return\n",
        "\n",
        "                command = f\"\"\"\n",
        "                    whisperx {input_file} \\\n",
        "                    --model {model} \\\n",
        "                    --task transcribe \\\n",
        "                    --align_model WAV2VEC2_ASR_LARGE_LV60K_960H \\\n",
        "                    --chunk_size 10 \\\n",
        "                    --vad_onset 0.4 \\\n",
        "                    --vad_offset 0.3 \\\n",
        "                    --compute_type float32 \\\n",
        "                    --batch_size 10 \\\n",
        "                    --output_dir {output_folder} \\\n",
        "                    --output_format srt \\\n",
        "                    --output_format json \\\n",
        "                \"\"\"\n",
        "\n",
        "                print(f\"Transcrevendo: {input_file}...\")\n",
        "                result = subprocess.run(command, shell=True, text=True, capture_output=True)\n",
        "                print(f\"Comando executado: {command}\")\n",
        "\n",
        "                if result.returncode != 0:\n",
        "                    print(\"Erro durante a transcrição:\")\n",
        "                    print(result.stderr)\n",
        "                else:\n",
        "                    print(f\"Transcrição concluída. Arquivo salvo em: {output_file} e {json_file}\")\n",
        "                    print(result.stdout)  # Verificar a saída correta\n",
        "\n",
        "            # Define o diretório de entrada e o diretório de saída\n",
        "            input_folder = '/content/ViralCutter/final'\n",
        "            output_folder = '/content/ViralCutter/subs'\n",
        "\n",
        "            # Itera sobre todos os arquivos na pasta de entrada\n",
        "            for filename in os.listdir(input_folder):\n",
        "                if filename.endswith('.mp4'):  # Filtra apenas arquivos .mp4\n",
        "                    input_file = os.path.join(input_folder, filename)\n",
        "                    generate_whisperx(input_file, output_folder)\n",
        "\n",
        "        transcribe()\n",
        "        adjust_subtitles.adjust(base_color, base_size, h_size, highlight_color, palavras_por_bloco, limite_gap, modo, posicao_vertical, alinhamento, fonte, contorno, cor_da_sombra, negrito, italico, sublinhado, tachado, estilo_da_borda, espessura_do_contorno, tamanho_da_sombra)\n",
        "        burn_subtitles.burn()  # Queimar legendas\n",
        "    else:\n",
        "        print(\"Subtitle burning skipped.\")\n",
        "\n",
        "    print(\"Process completed successfully!\")"
      ],
      "metadata": {
        "cellView": "form",
        "id": "DNn8ZKJdD5XG",
        "outputId": "febdb7fc-e3c2-4d28-f523-6a347da92b16",
        "colab": {
          "base_uri": "https://localhost:8080/"
        }
      },
      "execution_count": null,
      "outputs": [
        {
          "output_type": "stream",
          "name": "stdout",
          "text": [
            "Diretório atual: /content/ViralCutter\n",
            "Transcrevendo: /content/ViralCutter/final/final-output001_processed.mp4...\n",
            "Comando executado: \n",
            "            whisperx /content/ViralCutter/final/final-output001_processed.mp4             --model large-v3             --task transcribe             --align_model WAV2VEC2_ASR_LARGE_LV60K_960H             --chunk_size 10             --vad_onset 0.4             --vad_offset 0.3             --compute_type float32             --batch_size 10             --output_dir /content/ViralCutter/subs             --output_format srt             --output_format json           \n",
            "Transcrição concluída. Arquivo salvo em: /content/ViralCutter/subs/final-output001_processed.srt e /content/ViralCutter/subs/final-output001_processed.json\n",
            "No language specified, language will be first be detected for each audio file (increases inference time).\n",
            "Model was trained with pyannote.audio 0.0.1, yours is 3.1.1. Bad things might happen unless you revert pyannote.audio to 0.x.\n",
            "Model was trained with torch 1.10.0+cu102, yours is 2.4.1+cu121. Bad things might happen unless you revert torch to 1.x.\n",
            ">>Performing transcription...\n",
            "Detected language: pt (1.00) in first 30s of audio...\n",
            "New language found (pt)! Previous was (en), loading new alignment model for new language...\n",
            ">>Performing alignment...\n",
            "\n",
            "Transcrevendo: /content/ViralCutter/final/final-output002_processed.mp4...\n",
            "Comando executado: \n",
            "            whisperx /content/ViralCutter/final/final-output002_processed.mp4             --model large-v3             --task transcribe             --align_model WAV2VEC2_ASR_LARGE_LV60K_960H             --chunk_size 10             --vad_onset 0.4             --vad_offset 0.3             --compute_type float32             --batch_size 10             --output_dir /content/ViralCutter/subs             --output_format srt             --output_format json           \n",
            "Transcrição concluída. Arquivo salvo em: /content/ViralCutter/subs/final-output002_processed.srt e /content/ViralCutter/subs/final-output002_processed.json\n",
            "No language specified, language will be first be detected for each audio file (increases inference time).\n",
            "Model was trained with pyannote.audio 0.0.1, yours is 3.1.1. Bad things might happen unless you revert pyannote.audio to 0.x.\n",
            "Model was trained with torch 1.10.0+cu102, yours is 2.4.1+cu121. Bad things might happen unless you revert torch to 1.x.\n",
            ">>Performing transcription...\n",
            "Detected language: pt (1.00) in first 30s of audio...\n",
            "New language found (pt)! Previous was (en), loading new alignment model for new language...\n",
            ">>Performing alignment...\n",
            "\n",
            "Transcrevendo: /content/ViralCutter/final/final-output000_processed.mp4...\n",
            "Comando executado: \n",
            "            whisperx /content/ViralCutter/final/final-output000_processed.mp4             --model large-v3             --task transcribe             --align_model WAV2VEC2_ASR_LARGE_LV60K_960H             --chunk_size 10             --vad_onset 0.4             --vad_offset 0.3             --compute_type float32             --batch_size 10             --output_dir /content/ViralCutter/subs             --output_format srt             --output_format json           \n",
            "Transcrição concluída. Arquivo salvo em: /content/ViralCutter/subs/final-output000_processed.srt e /content/ViralCutter/subs/final-output000_processed.json\n",
            "No language specified, language will be first be detected for each audio file (increases inference time).\n",
            "Model was trained with pyannote.audio 0.0.1, yours is 3.1.1. Bad things might happen unless you revert pyannote.audio to 0.x.\n",
            "Model was trained with torch 1.10.0+cu102, yours is 2.4.1+cu121. Bad things might happen unless you revert torch to 1.x.\n",
            ">>Performing transcription...\n",
            "Detected language: pt (1.00) in first 30s of audio...\n",
            "New language found (pt)! Previous was (en), loading new alignment model for new language...\n",
            ">>Performing alignment...\n",
            "\n",
            "Arquivo processado: final-output001_processed.json -> final-output001_processed.ass\n",
            "Arquivo processado: final-output000_processed.json -> final-output000_processed.ass\n",
            "Arquivo processado: final-output002_processed.json -> final-output002_processed.ass\n",
            "Todos os arquivos JSON foram processados e convertidos para ASS.\n",
            "Caminho da legenda: subs_ass/final-output001_processed.ass\n",
            "Processando vídeo: final-output001_processed.mp4\n",
            "Caminho da legenda: subs_ass/final-output001_processed.ass\n",
            "Caminho de saída: burned_sub/final-output001_processed_subtitled.mp4\n",
            "Comando: ffmpeg -i final/final-output001_processed.mp4 -vf subtitles='subs_ass/final-output001_processed.ass' -c:v h264_nvenc -preset p1 -b:v 5M -c:a copy burned_sub/final-output001_processed_subtitled.mp4\n",
            "Processado: burned_sub/final-output001_processed_subtitled.mp4\n",
            "Caminho da legenda: subs_ass/final-output002_processed.ass\n",
            "Processando vídeo: final-output002_processed.mp4\n",
            "Caminho da legenda: subs_ass/final-output002_processed.ass\n",
            "Caminho de saída: burned_sub/final-output002_processed_subtitled.mp4\n",
            "Comando: ffmpeg -i final/final-output002_processed.mp4 -vf subtitles='subs_ass/final-output002_processed.ass' -c:v h264_nvenc -preset p1 -b:v 5M -c:a copy burned_sub/final-output002_processed_subtitled.mp4\n",
            "Processado: burned_sub/final-output002_processed_subtitled.mp4\n",
            "Caminho da legenda: subs_ass/final-output000_processed.ass\n",
            "Processando vídeo: final-output000_processed.mp4\n",
            "Caminho da legenda: subs_ass/final-output000_processed.ass\n",
            "Caminho de saída: burned_sub/final-output000_processed_subtitled.mp4\n",
            "Comando: ffmpeg -i final/final-output000_processed.mp4 -vf subtitles='subs_ass/final-output000_processed.ass' -c:v h264_nvenc -preset p1 -b:v 5M -c:a copy burned_sub/final-output000_processed_subtitled.mp4\n",
            "Processado: burned_sub/final-output000_processed_subtitled.mp4\n",
            "Process completed successfully!\n",
            "Process completed successfully!\n"
          ]
        }
      ]
    },
    {
      "cell_type": "markdown",
      "source": [
        "Exemplo de resposta<br>![exemplo.png](data:image/png;base64,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)"
      ],
      "metadata": {
        "id": "WYquVNzP0FhO"
      }
    },
    {
      "cell_type": "code",
      "source": [
        "#@title Virais criado\n",
        "#@markdown Irá imprimir ``Segmento 0:``, cada número representa um vídeo para colocar na célula posterior.\n",
        "import json\n",
        "\n",
        "# Lê o conteúdo do arquivo viral_segments.txt\n",
        "with open('/content/ViralCutter/tmp/viral_segments.txt', 'r', encoding='utf-8') as file:\n",
        "    data = json.load(file)\n",
        "\n",
        "# Itera sobre os segmentos e imprime as informações desejadas\n",
        "for index, segment in enumerate(data['segments']):\n",
        "    title = segment['title']\n",
        "    description = segment['description']\n",
        "    score = segment['score']\n",
        "    print(f\"Segmento {index}:\")\n",
        "    print(f\"  Título: {title}\")\n",
        "    print(f\"  Descrição: {description}\")\n",
        "    print(f\"  Score: {score}\")\n",
        "    print()\n"
      ],
      "metadata": {
        "colab": {
          "base_uri": "https://localhost:8080/"
        },
        "cellView": "form",
        "id": "CH1S792_3l5q",
        "outputId": "634c2e33-31b7-451e-dbd2-587c06f7a1fb"
      },
      "execution_count": null,
      "outputs": [
        {
          "output_type": "stream",
          "name": "stdout",
          "text": [
            "Segmento 0:\n",
            "  Título: Descomplicando a Vida: Menos é Mais\n",
            "  Descrição: Discussão sobre a ideia de que estar ocupado não é uma medalha de honra e que ter tempo é um verdadeiro indicador de sucesso.\n",
            "  Score: 85\n",
            "\n",
            "Segmento 1:\n",
            "  Título: A Realidade do Tempo e das Tarefas\n",
            "  Descrição: Reflexão sobre a importância de estar presente em cada momento e não se deixar levar pela pressão de fazer tudo ao mesmo tempo.\n",
            "  Score: 90\n",
            "\n",
            "Segmento 2:\n",
            "  Título: Aprendendo a Dizer Não\n",
            "  Descrição: A importância de aprender a dizer não para priorizar o que realmente importa na vida, destacando o respeito próprio.\n",
            "  Score: 80\n",
            "\n"
          ]
        }
      ]
    },
    {
      "cell_type": "markdown",
      "source": [
        "# Resultado em vídeo"
      ],
      "metadata": {
        "id": "QWVaFdjIGY4i"
      }
    },
    {
      "cell_type": "code",
      "execution_count": null,
      "metadata": {
        "id": "y3kiEMLqoHJ7",
        "cellView": "form"
      },
      "outputs": [],
      "source": [
        "#@title Resultado em vídeo\n",
        "#@markdown <h1><b> Escolha o número do vídeo\n",
        "from IPython.display import HTML\n",
        "from base64 import b64encode\n",
        "import json\n",
        "\n",
        "numero_do_video = 1 #@param {type:\"number\"}\n",
        "tipo_de_video = \"Legendas queimadas\" # @param [\"Legendas queimadas\", \"Video limpo\"]\n",
        "\n",
        "if tipo_de_video == \"Legendas queimadas\":\n",
        "  pasta_video = 'burned_sub'\n",
        "  sufix = 'processed_subtitled' #final-output000_\n",
        "else:\n",
        "  pasta_video = 'final'\n",
        "  sufix = 'processed'\n",
        "\n",
        "def show_video(video_path, video_width=400):\n",
        "    video_file = open(video_path, \"r+b\").read()\n",
        "    video_url = f\"data:video/mp4;base64,{b64encode(video_file).decode()}\"\n",
        "    return HTML(f\"\"\"<video width={video_width} controls><source src=\"{video_url}\"></video>\"\"\")\n",
        "\n",
        "# Load segment information from the text file\n",
        "with open('/content/ViralCutter/tmp/viral_segments.txt', 'r') as file:\n",
        "    segments_data = json.load(file)\n",
        "\n",
        "# Função para exibir o vídeo e as informações correspondentes ao índice\n",
        "def display_video_with_segment(index):\n",
        "    try:\n",
        "        segment = segments_data['segments'][index]\n",
        "\n",
        "        # Print Title, Description, and Score of the segment\n",
        "        print(f\"Título: {segment['title']}\")\n",
        "        print(f\"Descrição: {segment['description']}\")\n",
        "        print(f\"Score: {segment['score']}\")\n",
        "        print()\n",
        "\n",
        "        # Input video\n",
        "        video_path = f'/content/ViralCutter/{pasta_video}/final-output{str(index).zfill(3)}_{sufix}.mp4'\n",
        "        return show_video(video_path)\n",
        "\n",
        "    except IndexError:\n",
        "        print(f\"Segmento não encontrado para o índice {index}\")\n",
        "        return None\n",
        "\n",
        "# Exibir vídeo e informações do segmento correspondente ao índice 0 (por exemplo)\n",
        "display_video_with_segment(numero_do_video)  # Substitua o índice conforme necessário\n"
      ]
    },
    {
      "cell_type": "markdown",
      "source": [
        "## Baixar Zip"
      ],
      "metadata": {
        "id": "JXEYU0p6li2G"
      }
    },
    {
      "cell_type": "code",
      "source": [
        "#@title Baixar <b><u>todos</u> os virais gerados\n",
        "# prompt: Zipar e baixar todos os arquivos da pasta /content/final\n",
        "\n",
        "!zip -r /content/final.zip /content/ViralCutter/final\n",
        "from google.colab import files\n",
        "files.download(\"/content/final.zip\")\n"
      ],
      "metadata": {
        "cellView": "form",
        "id": "yV7r-PC7nmZD"
      },
      "execution_count": null,
      "outputs": []
    },
    {
      "cell_type": "code",
      "source": [
        "#@title Baixar somente Cortes com <u>resolução original 💻\n",
        "#@markdown Logo vai baixar os vídeos que são somente os cortes, sem a edição e foco no rosto\n",
        "import os\n",
        "import zipfile\n",
        "\n",
        "# Definir o diretório onde os vídeos estão localizados\n",
        "directory = '/content/ViralCutter/tmp'\n",
        "zip_filename = '/content/ViralCutter/videos_original_scale.zip'\n",
        "\n",
        "# Criar um arquivo zip\n",
        "with zipfile.ZipFile(zip_filename, 'w') as zipf:\n",
        "    # Iterar sobre os arquivos no diretório\n",
        "    for root, dirs, files in os.walk(directory):\n",
        "        for file in files:\n",
        "            if file.endswith('_original_scale.mp4'):\n",
        "                # Adicionar o arquivo ao zip\n",
        "                zipf.write(os.path.join(root, file), arcname=file)\n",
        "\n",
        "# Fazer o download do arquivo zip\n",
        "from google.colab import files\n",
        "files.download(zip_filename)\n"
      ],
      "metadata": {
        "cellView": "form",
        "id": "X0b_jKmX2y27"
      },
      "execution_count": null,
      "outputs": []
    },
    {
      "cell_type": "code",
      "source": [
        "#@title Baixar todos os virais gerados <b><u>(com legendas queimadas)\n",
        "\n",
        "!zip -r /content/burned_sub.zip /content/ViralCutter/burned_sub\n",
        "from google.colab import files\n",
        "files.download(\"/content/burned_sub.zip\")\n"
      ],
      "metadata": {
        "id": "22ebNo4GHVYU",
        "cellView": "form"
      },
      "execution_count": null,
      "outputs": []
    },
    {
      "cell_type": "markdown",
      "source": [
        "# ⚠️⚠️⚠️LIMPAR TUDO E COMEÇAR DE NOVO⚠️⚠️⚠️"
      ],
      "metadata": {
        "id": "qalspjsjh3ek"
      }
    },
    {
      "cell_type": "code",
      "source": [
        "#@title Apagar vídeo queimado pra gerar um novo\n",
        "# prompt: apagar pasta /content/burned_sub\n",
        "\n",
        "!rm -rf /content/ViralCutter/burned_sub\n"
      ],
      "metadata": {
        "id": "2J5qRrlEnRfc",
        "cellView": "form"
      },
      "execution_count": null,
      "outputs": []
    },
    {
      "cell_type": "code",
      "execution_count": null,
      "metadata": {
        "cellView": "form",
        "id": "bYjfKo3BZaXv"
      },
      "outputs": [],
      "source": [
        "#@title Limpar pastas\n",
        "#@markdown <h1><b>ATENÇÃO: Ao executar essa célula, tudo será apagado e você deve recomeçar na célula onde coloca o <u>LINK</u> do youtube\n",
        "# prompt: Apagar pasta /content/tmp\n",
        "\n",
        "!rm -rf /content/ViralCutter/tmp\n",
        "!rm -rf /content/ViralCutter/final\n",
        "!rm -rf /content/ViralCutter/subs_ass\n",
        "!rm -rf /content/ViralCutter/burned_sub\n",
        "!rm -rf /content/ViralCutter/subs\n",
        "\n"
      ]
    },
    {
      "cell_type": "markdown",
      "metadata": {
        "id": "nEIsMZLwJ5kD"
      },
      "source": [
        "#Créditos\n",
        "\n",
        "Inspirado no [reels clips automator](https://github.com/eddieoz/reels-clips-automator) e no [YoutubeVideoToAIPoweredShorts](https://github.com/Fitsbit/YoutubeVideoToAIPoweredShorts)<br>\n",
        "\n",
        "---\n",
        "![Rafa.png](https://i.imgur.com/cGknQpU.png;base64)\n",
        "\n",
        "Desenvolvido por **Rafa.Godoy**<br>\n",
        "[ ![GitHub](https://img.shields.io/badge/github-%23121011.svg?style=for-the-badge&logo=github&logoColor=white) ](https://github.com/rafaelGodoyEbert)<br>\n",
        "[ ![X](https://img.shields.io/twitter/url?url=https%3A%2F%2Ftwitter.com%2FGodoyEbert) ](https://twitter.com/GodoyEbert)<br>\n",
        "[Instagram](https://www.instagram.com/rafael.godoy.ebert/)<br>\n",
        "[ ![](https://dcbadge.vercel.app/api/server/aihubbrasil) ](https://discord.gg/aihubbrasil)"
      ]
    },
    {
      "cell_type": "markdown",
      "source": [
        "`0.5v Alpha`<br>\n",
        "\n",
        "Apenas uma alternativa gratuita ao `opus.pro` e ao `vidyo.ai`<br>\n"
      ],
      "metadata": {
        "id": "tpLJmPqGT5_u"
      }
    }
  ],
  "metadata": {
    "accelerator": "GPU",
    "colab": {
      "gpuType": "T4",
      "provenance": []
    },
    "kernelspec": {
      "display_name": "Python 3",
      "name": "python3"
    },
    "language_info": {
      "name": "python"
    }
  },
  "nbformat": 4,
  "nbformat_minor": 0
}